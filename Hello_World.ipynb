{
  "nbformat": 4,
  "nbformat_minor": 0,
  "metadata": {
    "colab": {
      "name": "Hello World.ipynb",
      "provenance": [],
      "collapsed_sections": [],
      "toc_visible": true,
      "authorship_tag": "ABX9TyNGrQvAKxiYPKqHI3AK6+OG",
      "include_colab_link": true
    },
    "kernelspec": {
      "name": "python3",
      "display_name": "Python 3"
    },
    "language_info": {
      "name": "python"
    }
  },
  "cells": [
    {
      "cell_type": "markdown",
      "metadata": {
        "id": "view-in-github",
        "colab_type": "text"
      },
      "source": [
        "<a href=\"https://colab.research.google.com/github/pbeens/Python-101/blob/main/Hello_World.ipynb\" target=\"_parent\"><img src=\"https://colab.research.google.com/assets/colab-badge.svg\" alt=\"Open In Colab\"/></a>"
      ]
    },
    {
      "cell_type": "markdown",
      "metadata": {
        "id": "ULalArsuh9ah"
      },
      "source": [
        "# Overview"
      ]
    },
    {
      "cell_type": "markdown",
      "metadata": {
        "id": "Rk8FQQ1655v4"
      },
      "source": [
        "The short URL of this document on GitHub is https://is.gd/1VHgvN. \n",
        "\n",
        "Open this notebook with the Open in Colab button, above.\n",
        "\n",
        "This is a demo of Hello World written in Python. A few short assignments are included.\n",
        "\n",
        "You can use the Table of Contents on the left-hand side to navigate to the different sections."
      ]
    },
    {
      "cell_type": "markdown",
      "metadata": {
        "id": "vQxPGJz04UpD"
      },
      "source": [
        "# Demo\n",
        "\n"
      ]
    },
    {
      "cell_type": "code",
      "metadata": {
        "id": "sVeNTHjO92w1"
      },
      "source": [
        "print('Hello, World!')"
      ],
      "execution_count": null,
      "outputs": []
    },
    {
      "cell_type": "markdown",
      "metadata": {
        "id": "ATODru5p4fwq"
      },
      "source": [
        "# Try it yourself!"
      ]
    },
    {
      "cell_type": "code",
      "metadata": {
        "id": "mT2bBwMV-S-p"
      },
      "source": [
        ""
      ],
      "execution_count": null,
      "outputs": []
    },
    {
      "cell_type": "markdown",
      "metadata": {
        "id": "-0VtxiCk-Pdw"
      },
      "source": [
        "*Tip for learning: Do NOT copy-and-paste!*\n",
        "\n"
      ]
    },
    {
      "cell_type": "markdown",
      "metadata": {
        "id": "g2FZvtQavJPL"
      },
      "source": [
        "# Assignment: Your Name\n"
      ]
    },
    {
      "cell_type": "markdown",
      "metadata": {
        "id": "OCDaWjfqvMoF"
      },
      "source": [
        "Using the Hello World example above, write a program that prints your name."
      ]
    },
    {
      "cell_type": "code",
      "metadata": {
        "id": "nZY2Co1gvUxs"
      },
      "source": [
        ""
      ],
      "execution_count": null,
      "outputs": []
    },
    {
      "cell_type": "markdown",
      "metadata": {
        "id": "0wjqHlACvaOO"
      },
      "source": [
        "# Assignment: Tic-Tac-Toe Board\n"
      ]
    },
    {
      "cell_type": "markdown",
      "metadata": {
        "id": "Babx2Z__vdzI"
      },
      "source": [
        "Write a program that duplicates this board:\n",
        "\n",
        "![image.png](data:image/png;base64,iVBORw0KGgoAAAANSUhEUgAAAFgAAABwCAYAAACaardvAAADr0lEQVR4Ae3dTUuUURQHcL9D0b6Isr7NDCNB9CbWqpKWMwwtS4kgJAiCaB2RobiIqEmZomirkH4DN1EtbNTI+ce0GsWD5zz3nPuMzl8YkDvn5c7vOT7KMBdHwK9QgZHQ6iwOAgcPAYEJHCwQXJ4TTOBggeDynGACBwsEly9tgv/++IjnT1pY34l9hbn6SK+iNODNpVs4e/wa5jvS1nzWc/WRdlse8OJNnDl2BXPRwJn6EDj4QhKYwNIMpK1v8haRBnhQNoGDf3QJTOCDfgiLPZ9rsnL1kRT4d7Ak47ROYCdIqUxpwFvtSZw7MY6F4Htwrj4DB9ztrKL1ZgW/pJ05refqI223tAmWNnTU1gkcfEUJTOBggeDynGACBwsEl+cEEzhYILg8J5jAwQLB5TnBBA4WCC6vnODf+Px4ArVqBZVK/6OKC1cfov0T6Ha+YOZ6DdVdz1dQqY7hxoP2/zd1NDEbX2cwUavu6VNBdWwcj5Z6bw357MWjj+baKIG38e31FJqNOur1/kcDd++9xEoH6P5Zxex0E41dz9dRbzQx/WIFm9DFbK3NYqrZ2NOnjkbzPl4t96r47MWjjyOwphRj9hNQTvB+qVzTCBBYo5QQQ+AEPE0qgTVKCTEETsDTpBJYo5QQQ+AEPE0qgTVKCTEETsDTpBJYo5QQQ+AEPE1qacC5zq/l6iNhlwac6/xarj6DB5zpcAo/gB388VUCE1i6u6St55qsXH0kjfJ+yfEeLF0Tn/Vck5Wrj6TCCZZknNYJ7AQplSGwJOO0TmAnSKlMacC5zq/l6jNwwLnOr+XqM3DA0oaO2nppt4ijBim9HgJLMk7rBHaClMoQWJJxWiewE6RUhsCSjNM6gZ0gpTIElmSc1gnsBCmVIbAk47ROYCdIqYwS2OdsGs/JSZfB6Wya5iydx/m1XH1Err4nlBPcl8FvTQIENnHZgwlsNzNlENjEZQ8msN3MlEFgE5c9mMB2M1MGgU1c9mAC281MGQQ2cdmDCWw3M2UQ2MRlDy4ReAffPz3D03fr9l0bMob2nBywhQ+TpzB6ad7AZQ8d2nNyPeDW7ZMYvThnVzNkDO0RAgIbpqRYKCe4mJs6i8BqqmKBBC7mps4isJqqWCCBi7mpswispioWSOBibuosAqupigVuY/HOaZy/vFAsXZk1tOfkej4ba+/xdjn2P8rxnJxyEg9rWIlvVx5WMtu+CWzzMkcT2ExmSyCwzcscTWAzmS2BwDYvczSBzWS2BALbvMzR/wCKUOCT2pNYMgAAAABJRU5ErkJggg==)\n",
        "\n",
        "Use multiple `print()` statements for this."
      ]
    },
    {
      "cell_type": "code",
      "metadata": {
        "id": "2I-4fajpviqk"
      },
      "source": [
        ""
      ],
      "execution_count": null,
      "outputs": []
    },
    {
      "cell_type": "markdown",
      "metadata": {
        "id": "qixai3rpmsgP"
      },
      "source": [
        "# Let's Try Some Simple Math\n"
      ]
    },
    {
      "cell_type": "markdown",
      "metadata": {
        "id": "4SiE3YLemxT_"
      },
      "source": [
        "What might we expect if we try to print some math expressions? "
      ]
    },
    {
      "cell_type": "code",
      "metadata": {
        "id": "w12wcXpxm11i"
      },
      "source": [
        "print(3+2)"
      ],
      "execution_count": null,
      "outputs": []
    },
    {
      "cell_type": "markdown",
      "metadata": {
        "id": "t7KpjOjEnYzU"
      },
      "source": [
        "# Assignment: More Math\n"
      ]
    },
    {
      "cell_type": "markdown",
      "metadata": {
        "id": "sl_zrwTwnp1B"
      },
      "source": [
        "Print one each of subtraction (`-`), multiplication (`*`), and division (`/`)."
      ]
    },
    {
      "cell_type": "code",
      "metadata": {
        "id": "PVOv_ps3ox-k"
      },
      "source": [
        ""
      ],
      "execution_count": null,
      "outputs": []
    },
    {
      "cell_type": "markdown",
      "metadata": {
        "id": "V27VVxbroLq0"
      },
      "source": [
        "Print some more complex math expressions to prove that PEMDAS/BEDMAS/BODMAS (however you learned it!) works. Note that you can use parentheses in mathematical expressions, just like in arithmetic."
      ]
    },
    {
      "cell_type": "code",
      "metadata": {
        "id": "u-z_DYAKNCAW"
      },
      "source": [
        "# This example should print -1\n",
        "print(3-2*2)"
      ],
      "execution_count": null,
      "outputs": []
    },
    {
      "cell_type": "code",
      "metadata": {
        "id": "iezDAcjRNJxK"
      },
      "source": [
        ""
      ],
      "execution_count": null,
      "outputs": []
    },
    {
      "cell_type": "markdown",
      "metadata": {
        "id": "ywOzW0gnNYWx"
      },
      "source": [
        "# Resources / Credits"
      ]
    },
    {
      "cell_type": "markdown",
      "metadata": {
        "id": "95KL1vZzNcAy"
      },
      "source": [
        "Credit for the tic-tac-toe assignment: http://web.mit.edu/6.s189/www/handouts/hw1/homework_1.pdf)\n",
        "\n",
        "The original URL of this notebook is https://colab.research.google.com/drive/1RBfwxuNy3b8v_G-GFCyHwGs1ak0MgyXo."
      ]
    }
  ]
}