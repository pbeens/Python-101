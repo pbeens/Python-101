{
  "nbformat": 4,
  "nbformat_minor": 0,
  "metadata": {
    "colab": {
      "name": "Live Demo Notebook.ipynb",
      "provenance": [],
      "collapsed_sections": [],
      "toc_visible": true,
      "include_colab_link": true
    },
    "kernelspec": {
      "name": "python3",
      "display_name": "Python 3"
    },
    "language_info": {
      "name": "python"
    }
  },
  "cells": [
    {
      "cell_type": "markdown",
      "metadata": {
        "id": "view-in-github",
        "colab_type": "text"
      },
      "source": [
        "<a href=\"https://colab.research.google.com/github/pbeens/Python-101/blob/main/Live_Demo_Notebook.ipynb\" target=\"_parent\"><img src=\"https://colab.research.google.com/assets/colab-badge.svg\" alt=\"Open In Colab\"/></a>"
      ]
    },
    {
      "cell_type": "markdown",
      "metadata": {
        "id": "HS0J_UZKYhyF"
      },
      "source": [
        "# Notes/Links"
      ]
    },
    {
      "cell_type": "markdown",
      "metadata": {
        "id": "acCgL11yYl0T"
      },
      "source": [
        "This notebook can be found on GitHub [here](https://github.com/pbeens/Python-101/blob/main/Live_Demo_Notebook.ipynb)."
      ]
    },
    {
      "cell_type": "markdown",
      "metadata": {
        "id": "W9nUZXvdFX4r"
      },
      "source": [
        "# Week 3 Review"
      ]
    },
    {
      "cell_type": "markdown",
      "metadata": {
        "id": "3fdHhEO4FbtR"
      },
      "source": [
        "Print \"Hello!\" to screen"
      ]
    },
    {
      "cell_type": "code",
      "metadata": {
        "id": "cR1qsTPaFkjr"
      },
      "source": [
        ""
      ],
      "execution_count": null,
      "outputs": []
    },
    {
      "cell_type": "markdown",
      "metadata": {
        "id": "KnmfYxnIFpVy"
      },
      "source": [
        "Prompt for your name using the `input()` command and store in a variable named `name`."
      ]
    },
    {
      "cell_type": "code",
      "metadata": {
        "id": "IbWypnVQFu99"
      },
      "source": [
        ""
      ],
      "execution_count": null,
      "outputs": []
    },
    {
      "cell_type": "markdown",
      "metadata": {
        "id": "gHq2wI2wFwL9"
      },
      "source": [
        "Now print your name using the `name` variable"
      ]
    },
    {
      "cell_type": "code",
      "metadata": {
        "id": "zfRGYwL0F1Q3"
      },
      "source": [
        ""
      ],
      "execution_count": null,
      "outputs": []
    },
    {
      "cell_type": "markdown",
      "metadata": {
        "id": "3-4pJqlKF2Cq"
      },
      "source": [
        "Prompt for your age, again, using the `input()` command, and store in a variable named `age`."
      ]
    },
    {
      "cell_type": "code",
      "metadata": {
        "id": "7rLMzU4EF7Od"
      },
      "source": [
        " "
      ],
      "execution_count": null,
      "outputs": []
    },
    {
      "cell_type": "markdown",
      "metadata": {
        "id": "IzwIGc37F8cX"
      },
      "source": [
        "Now print your age using the `age` variable declared above."
      ]
    },
    {
      "cell_type": "code",
      "metadata": {
        "id": "sEK8WYVBF-YI"
      },
      "source": [
        ""
      ],
      "execution_count": null,
      "outputs": []
    },
    {
      "cell_type": "markdown",
      "metadata": {
        "id": "rtUXbeEbF-uY"
      },
      "source": [
        "Using the `name` and `age` variables above, try to print your name and age in a sentence, similar to \"Peter is 60\"."
      ]
    },
    {
      "cell_type": "code",
      "metadata": {
        "id": "yEOAsYDVGOPN"
      },
      "source": [
        ""
      ],
      "execution_count": null,
      "outputs": []
    },
    {
      "cell_type": "markdown",
      "metadata": {
        "id": "fnZZ5R_rZFqV"
      },
      "source": [
        "Using the name and age variables above, try to print your name and age in a sentence, similar to \"Peter is 60.\". (note the period at the end)"
      ]
    },
    {
      "cell_type": "markdown",
      "metadata": {
        "id": "MUu2oIK0H2R9"
      },
      "source": [
        "# Week 4 Review"
      ]
    },
    {
      "cell_type": "markdown",
      "metadata": {
        "id": "rYcplwBJH6KT"
      },
      "source": [
        "Declare a variable for your name and then print it."
      ]
    },
    {
      "cell_type": "code",
      "metadata": {
        "id": "mvC57t_RIAW5"
      },
      "source": [
        ""
      ],
      "execution_count": null,
      "outputs": []
    },
    {
      "cell_type": "markdown",
      "metadata": {
        "id": "BDNk2tl5IA8h"
      },
      "source": [
        "Prompt for your name and then print it."
      ]
    },
    {
      "cell_type": "code",
      "metadata": {
        "id": "eykuhxW9IE9W"
      },
      "source": [
        ""
      ],
      "execution_count": null,
      "outputs": []
    },
    {
      "cell_type": "markdown",
      "metadata": {
        "id": "OUQkIYqOIICm"
      },
      "source": [
        "Declare variables for your name and age and then print them in a single statement with a period at the end."
      ]
    },
    {
      "cell_type": "code",
      "metadata": {
        "id": "h5x8wkC3ISQi"
      },
      "source": [
        ""
      ],
      "execution_count": null,
      "outputs": []
    },
    {
      "cell_type": "markdown",
      "metadata": {
        "id": "QsTxrc66ZR7M"
      },
      "source": [
        "# Week 5 Demo"
      ]
    },
    {
      "cell_type": "markdown",
      "metadata": {
        "id": "5gAzifptZUsU"
      },
      "source": [
        "We can input and print strings."
      ]
    },
    {
      "cell_type": "code",
      "metadata": {
        "id": "vNzyqAdqbbH9"
      },
      "source": [
        "s = input('Enter something: ')\n",
        "print(s)"
      ],
      "execution_count": null,
      "outputs": []
    },
    {
      "cell_type": "markdown",
      "metadata": {
        "id": "AS6ukCVgbpQT"
      },
      "source": [
        "Let's try it with a number."
      ]
    },
    {
      "cell_type": "code",
      "metadata": {
        "id": "dT4JAYdEbsCe"
      },
      "source": [
        "n = input('Enter a number: ')\n",
        "print(n)"
      ],
      "execution_count": null,
      "outputs": []
    },
    {
      "cell_type": "markdown",
      "metadata": {
        "id": "HWXo4u_abyWz"
      },
      "source": [
        "But is really it a number?"
      ]
    },
    {
      "cell_type": "code",
      "metadata": {
        "id": "6Q5Ta4vvbz-h"
      },
      "source": [
        "print(n*n)"
      ],
      "execution_count": null,
      "outputs": []
    },
    {
      "cell_type": "markdown",
      "metadata": {
        "id": "bm94-aP9cH4b"
      },
      "source": [
        "So what's the problem???"
      ]
    },
    {
      "cell_type": "code",
      "metadata": {
        "id": "lNEDkmfgb__s"
      },
      "source": [
        "print(type(n))"
      ],
      "execution_count": null,
      "outputs": []
    },
    {
      "cell_type": "code",
      "metadata": {
        "id": "bn4HGmrncFV4"
      },
      "source": [
        ""
      ],
      "execution_count": null,
      "outputs": []
    }
  ]
}